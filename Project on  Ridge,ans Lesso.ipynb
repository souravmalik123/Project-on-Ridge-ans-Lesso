{
 "cells": [
  {
   "cell_type": "code",
   "execution_count": 20,
   "id": "0d810188",
   "metadata": {},
   "outputs": [],
   "source": [
    "import pandas as pd\n",
    "from sklearn.model_selection import train_test_split\n",
    "from sklearn.linear_model import LinearRegression,Ridge,Lasso\n",
    "from sklearn.metrics import r2_score"
   ]
  },
  {
   "cell_type": "code",
   "execution_count": 2,
   "id": "271f9ccf",
   "metadata": {},
   "outputs": [],
   "source": [
    "data = pd.read_csv(\"mpg .txt\")"
   ]
  },
  {
   "cell_type": "code",
   "execution_count": 4,
   "id": "fe886488",
   "metadata": {},
   "outputs": [
    {
     "name": "stdout",
     "output_type": "stream",
     "text": [
      "    mpg  cylinders  displacement  horsepower  weight  acceleration  \\\n",
      "0  18.0          8         307.0       130.0    3504          12.0   \n",
      "1  15.0          8         350.0       165.0    3693          11.5   \n",
      "2  18.0          8         318.0       150.0    3436          11.0   \n",
      "3  16.0          8         304.0       150.0    3433          12.0   \n",
      "4  17.0          8         302.0       140.0    3449          10.5   \n",
      "\n",
      "   model_year origin                       name  \n",
      "0          70    usa  chevrolet chevelle malibu  \n",
      "1          70    usa          buick skylark 320  \n",
      "2          70    usa         plymouth satellite  \n",
      "3          70    usa              amc rebel sst  \n",
      "4          70    usa                ford torino  \n"
     ]
    }
   ],
   "source": [
    "print(data.head())"
   ]
  },
  {
   "cell_type": "code",
   "execution_count": 5,
   "id": "49d0420c",
   "metadata": {},
   "outputs": [],
   "source": [
    "x = data[\"weight\"].values.reshape(-1,1)\n",
    "y = data[\"mpg\"].values.reshape(-1,1)"
   ]
  },
  {
   "cell_type": "code",
   "execution_count": 9,
   "id": "79ca0b37",
   "metadata": {},
   "outputs": [],
   "source": [
    "x_train,x_test,y_train,y_test = train_test_split(x,y,test_size=0.2,random_state=1234)"
   ]
  },
  {
   "cell_type": "code",
   "execution_count": 12,
   "id": "1a1bcc65",
   "metadata": {},
   "outputs": [
    {
     "name": "stdout",
     "output_type": "stream",
     "text": [
      "The Linear Regression Model is Loaded\n"
     ]
    }
   ],
   "source": [
    "lin = LinearRegression()\n",
    "print(\"The Linear Regression Model is Loaded\")"
   ]
  },
  {
   "cell_type": "code",
   "execution_count": 14,
   "id": "623ce7db",
   "metadata": {},
   "outputs": [
    {
     "name": "stdout",
     "output_type": "stream",
     "text": [
      "The model is fitted and trained\n"
     ]
    }
   ],
   "source": [
    "model = lin.fit(x_train,y_train)\n",
    "print(\"The model is fitted and trained\")"
   ]
  },
  {
   "cell_type": "code",
   "execution_count": 16,
   "id": "21c96db2",
   "metadata": {},
   "outputs": [
    {
     "name": "stdout",
     "output_type": "stream",
     "text": [
      "0.6900893880939413\n"
     ]
    }
   ],
   "source": [
    "#### check the accuracy of training data\n",
    "accu_train = model.score(x_train,y_train)\n",
    "print(accu_train)"
   ]
  },
  {
   "cell_type": "code",
   "execution_count": 17,
   "id": "be1db6c6",
   "metadata": {
    "collapsed": true
   },
   "outputs": [
    {
     "name": "stdout",
     "output_type": "stream",
     "text": [
      "[[14.23518851]\n",
      " [ 6.44540492]\n",
      " [16.24188732]\n",
      " [29.24592767]\n",
      " [27.18392613]\n",
      " [30.02806618]\n",
      " [14.97782508]\n",
      " [28.88250977]\n",
      " [12.98692704]\n",
      " [17.58495346]\n",
      " [26.82840863]\n",
      " [18.54090053]\n",
      " [28.2899806 ]\n",
      " [31.45013621]\n",
      " [26.03836972]\n",
      " [12.11788425]\n",
      " [19.12552932]\n",
      " [25.52484443]\n",
      " [18.20908419]\n",
      " [31.92415955]\n",
      " [32.54829028]\n",
      " [17.6244554 ]\n",
      " [27.38933625]\n",
      " [18.81741415]\n",
      " [ 9.5581582 ]\n",
      " [24.1106748 ]\n",
      " [34.02566303]\n",
      " [24.49779386]\n",
      " [28.6454981 ]\n",
      " [30.02806618]\n",
      " [14.14828423]\n",
      " [18.04317602]\n",
      " [26.78890668]\n",
      " [29.05631833]\n",
      " [22.39629038]\n",
      " [23.32853628]\n",
      " [22.0170717 ]\n",
      " [12.5840072 ]\n",
      " [23.7472569 ]\n",
      " [22.67280399]\n",
      " [ 8.29409595]\n",
      " [29.6567479 ]\n",
      " [32.47718678]\n",
      " [11.84137063]\n",
      " [30.22557591]\n",
      " [23.78675885]\n",
      " [23.78675885]\n",
      " [24.9718172 ]\n",
      " [26.13317439]\n",
      " [26.73360396]\n",
      " [27.82385764]\n",
      " [11.78606791]\n",
      " [26.6308989 ]\n",
      " [22.68070438]\n",
      " [31.37113232]\n",
      " [29.15902339]\n",
      " [18.35919158]\n",
      " [23.18632928]\n",
      " [14.3852959 ]\n",
      " [25.95146544]\n",
      " [21.25863436]\n",
      " [14.34579395]\n",
      " [ 7.93067806]\n",
      " [23.51814562]\n",
      " [14.67761029]\n",
      " [16.47889899]\n",
      " [31.64764594]\n",
      " [30.69959925]\n",
      " [11.97567724]\n",
      " [30.26507785]\n",
      " [29.63304673]\n",
      " [12.60770837]\n",
      " [32.56409106]\n",
      " [19.24403515]\n",
      " [31.5291401 ]\n",
      " [23.90526468]\n",
      " [26.24377984]\n",
      " [32.83270429]\n",
      " [30.7391012 ]\n",
      " [28.25837904]]\n"
     ]
    }
   ],
   "source": [
    "pred = model.predict(x_test)\n",
    "print(pred)"
   ]
  },
  {
   "cell_type": "code",
   "execution_count": 21,
   "id": "9e4a58e1",
   "metadata": {},
   "outputs": [
    {
     "name": "stdout",
     "output_type": "stream",
     "text": [
      "0.6900893880939413\n"
     ]
    }
   ],
   "source": [
    "#### check the accuracy of testing data\n",
    "accu_test = r2_score(y_test,pred)\n",
    "print(accu_train)"
   ]
  },
  {
   "cell_type": "code",
   "execution_count": 25,
   "id": "8a911bdb",
   "metadata": {},
   "outputs": [
    {
     "name": "stdout",
     "output_type": "stream",
     "text": [
      "The Ridge model is loaded\n"
     ]
    }
   ],
   "source": [
    "rd = Ridge()\n",
    "print(\"The Ridge model is loaded\")"
   ]
  },
  {
   "cell_type": "code",
   "execution_count": 26,
   "id": "9a9808ec",
   "metadata": {},
   "outputs": [
    {
     "name": "stdout",
     "output_type": "stream",
     "text": [
      "The Ridge model is fitted and trained\n"
     ]
    }
   ],
   "source": [
    "model1 = rd.fit(x_train,y_train)\n",
    "print(\"The Ridge model is fitted and trained\")"
   ]
  },
  {
   "cell_type": "code",
   "execution_count": 28,
   "id": "fcb384b2",
   "metadata": {},
   "outputs": [
    {
     "name": "stdout",
     "output_type": "stream",
     "text": [
      "0.6900893880939412\n"
     ]
    }
   ],
   "source": [
    "#### check the accuracy of training data\n",
    "accu_train_ridge = model1.score(x_train,y_train)\n",
    "print(accu_train_ridge)"
   ]
  },
  {
   "cell_type": "code",
   "execution_count": 29,
   "id": "eec8e2c1",
   "metadata": {
    "collapsed": true
   },
   "outputs": [
    {
     "name": "stdout",
     "output_type": "stream",
     "text": [
      "[[14.23518855]\n",
      " [ 6.445405  ]\n",
      " [16.24188736]\n",
      " [29.24592764]\n",
      " [27.18392612]\n",
      " [30.02806615]\n",
      " [14.97782512]\n",
      " [28.88250975]\n",
      " [12.98692709]\n",
      " [17.58495348]\n",
      " [26.82840861]\n",
      " [18.54090055]\n",
      " [28.28998058]\n",
      " [31.45013617]\n",
      " [26.03836971]\n",
      " [12.1178843 ]\n",
      " [19.12552934]\n",
      " [25.52484443]\n",
      " [18.20908422]\n",
      " [31.92415951]\n",
      " [32.54829024]\n",
      " [17.62445543]\n",
      " [27.38933623]\n",
      " [18.81741417]\n",
      " [ 9.55815826]\n",
      " [24.1106748 ]\n",
      " [34.02566299]\n",
      " [24.49779386]\n",
      " [28.64549808]\n",
      " [30.02806615]\n",
      " [14.14828427]\n",
      " [18.04317605]\n",
      " [26.78890667]\n",
      " [29.05631831]\n",
      " [22.39629038]\n",
      " [23.32853629]\n",
      " [22.01707171]\n",
      " [12.58400725]\n",
      " [23.7472569 ]\n",
      " [22.672804  ]\n",
      " [ 8.29409602]\n",
      " [29.65674787]\n",
      " [32.47718674]\n",
      " [11.84137068]\n",
      " [30.22557588]\n",
      " [23.78675885]\n",
      " [23.78675885]\n",
      " [24.9718172 ]\n",
      " [26.13317438]\n",
      " [26.73360394]\n",
      " [27.82385762]\n",
      " [11.78606796]\n",
      " [26.63089889]\n",
      " [22.68070439]\n",
      " [31.37113228]\n",
      " [29.15902336]\n",
      " [18.35919161]\n",
      " [23.18632928]\n",
      " [14.38529594]\n",
      " [25.95146543]\n",
      " [21.25863437]\n",
      " [14.345794  ]\n",
      " [ 7.93067813]\n",
      " [23.51814562]\n",
      " [14.67761033]\n",
      " [16.47889903]\n",
      " [31.6476459 ]\n",
      " [30.69959922]\n",
      " [11.9756773 ]\n",
      " [30.26507782]\n",
      " [29.6330467 ]\n",
      " [12.60770842]\n",
      " [32.56409102]\n",
      " [19.24403517]\n",
      " [31.52914006]\n",
      " [23.90526468]\n",
      " [26.24377983]\n",
      " [32.83270425]\n",
      " [30.73910116]\n",
      " [28.25837902]]\n"
     ]
    }
   ],
   "source": [
    "pred1 = model1.predict(x_test)\n",
    "print(pred1)"
   ]
  },
  {
   "cell_type": "code",
   "execution_count": 30,
   "id": "53969f0a",
   "metadata": {},
   "outputs": [
    {
     "name": "stdout",
     "output_type": "stream",
     "text": [
      "0.6900565179818907\n"
     ]
    }
   ],
   "source": [
    "##### check the accuracy of testing data\n",
    "accu_test_ridge = r2_score(y_test,pred1)\n",
    "print(accu_test_ridge)"
   ]
  },
  {
   "cell_type": "code",
   "execution_count": 33,
   "id": "512b63e2",
   "metadata": {},
   "outputs": [
    {
     "name": "stdout",
     "output_type": "stream",
     "text": [
      "The Lasso model is loaded\n"
     ]
    }
   ],
   "source": [
    "ls = Lasso()\n",
    "print(\"The Lasso model is loaded\")"
   ]
  },
  {
   "cell_type": "code",
   "execution_count": 34,
   "id": "a7e0ba43",
   "metadata": {},
   "outputs": [
    {
     "name": "stdout",
     "output_type": "stream",
     "text": [
      "The Lasso model is fitted and trained\n"
     ]
    }
   ],
   "source": [
    "model2 = ls.fit(x_train,y_train)\n",
    "print(\"The Lasso model is fitted and trained\")\n"
   ]
  },
  {
   "cell_type": "code",
   "execution_count": 35,
   "id": "76cfb364",
   "metadata": {},
   "outputs": [
    {
     "name": "stdout",
     "output_type": "stream",
     "text": [
      "0.6900893646310167\n"
     ]
    }
   ],
   "source": [
    "###### check the accuracy of the training data\n",
    "accu_train_ls = model2.score(x_train,y_train)\n",
    "print(accu_train_ls)"
   ]
  },
  {
   "cell_type": "code",
   "execution_count": 37,
   "id": "2672a424",
   "metadata": {
    "collapsed": true
   },
   "outputs": [
    {
     "name": "stdout",
     "output_type": "stream",
     "text": [
      "[14.23694132  6.4485941  16.24327012 29.24491265 27.18329132 30.02690694\n",
      " 14.97944096 28.88156176 12.98891002 17.58608861 26.82783937 18.54185941\n",
      " 28.28914184 31.44871475 26.03794614 12.12002747 19.1263804  25.52451555\n",
      " 18.21010426 31.92265069 32.54666634 17.62558327 27.38866356 18.81832204\n",
      "  9.56077342 24.11060667 34.02376668 24.49765435 28.6445938  30.02690694\n",
      " 14.15005307 18.04422668 26.78834471 29.05533827 22.39653837 23.32861237\n",
      " 22.01738962 12.58606448 23.74725578 22.67300099  8.29694425 29.65565713\n",
      " 32.47557595 11.84356484 30.22438025 23.78675045 23.78675045 24.97159029\n",
      " 26.13273333 26.73305219 27.82310484 11.78827232 26.63036607 22.68089993\n",
      " 31.36972543 29.15802439 18.36018397 23.18643159 14.38702104 25.95105789\n",
      " 21.25909212 14.34752638  7.93359337 23.51818675 14.67928153 16.48023809\n",
      " 31.64618806 30.69831619 11.97784669 30.26387491 29.63196033 12.60976127\n",
      " 32.56246421 19.24486439 31.52770408 23.90523443 26.24331838 32.8310279\n",
      " 30.73781085 28.25754611]\n"
     ]
    }
   ],
   "source": [
    "pred2 = model2.predict(x_test)\n",
    "print(pred2)"
   ]
  },
  {
   "cell_type": "code",
   "execution_count": 38,
   "id": "3c4331a4",
   "metadata": {},
   "outputs": [
    {
     "name": "stdout",
     "output_type": "stream",
     "text": [
      "0.6900980430498248\n"
     ]
    }
   ],
   "source": [
    "##### check the accuracy of testing data\n",
    "accu_test_ls = r2_score(y_test,pred2)\n",
    "print(accu_test_ls)"
   ]
  }
 ],
 "metadata": {
  "kernelspec": {
   "display_name": "Python 3 (ipykernel)",
   "language": "python",
   "name": "python3"
  },
  "language_info": {
   "codemirror_mode": {
    "name": "ipython",
    "version": 3
   },
   "file_extension": ".py",
   "mimetype": "text/x-python",
   "name": "python",
   "nbconvert_exporter": "python",
   "pygments_lexer": "ipython3",
   "version": "3.11.4"
  }
 },
 "nbformat": 4,
 "nbformat_minor": 5
}
